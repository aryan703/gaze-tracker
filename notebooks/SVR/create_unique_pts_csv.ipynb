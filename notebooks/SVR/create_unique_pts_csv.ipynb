{
 "cells": [
  {
   "cell_type": "code",
   "execution_count": 1,
   "id": "6cfa8b51-1117-4a15-a7fe-a58c9dda4bb8",
   "metadata": {},
   "outputs": [],
   "source": [
    "import numpy as np\n",
    "import pandas as pd\n",
    "import random"
   ]
  },
  {
   "cell_type": "code",
   "execution_count": 2,
   "id": "e23cb493-616c-4a04-9c76-d567e4451312",
   "metadata": {},
   "outputs": [],
   "source": [
    "IDs = ['03183','01877','01326','03140','02091','02301','02240','00382','02833','02078']"
   ]
  },
  {
   "cell_type": "code",
   "execution_count": 3,
   "id": "9249fd06-4770-41c3-a9c8-9bffe63e15bb",
   "metadata": {},
   "outputs": [],
   "source": [
    "random.seed(55)"
   ]
  },
  {
   "cell_type": "code",
   "execution_count": 4,
   "id": "acf4a93e-dad8-4820-b402-75993828357a",
   "metadata": {},
   "outputs": [],
   "source": [
    "for ID in IDs:\n",
    "    \n",
    "    csv_path = '../../CSVs/MIT_all/'+ ID + '.csv'\n",
    "    \n",
    "    Main_Collection = pd.read_csv(csv_path)\n",
    "    \n",
    "    data = []\n",
    "    part_ind = Main_Collection[Main_Collection['Image ID'].str.startswith(ID)]\n",
    "    \n",
    "    main_dict = {}\n",
    "\n",
    "    for ind in part_ind.index:\n",
    "        if part_ind['GT_Value'][ind] not in main_dict.keys():\n",
    "            main_dict[part_ind['GT_Value'][ind]] = [ind]\n",
    "        else:\n",
    "            main_dict[part_ind['GT_Value'][ind]].append(ind)\n",
    "\n",
    "    # print(len(main_dict))\n",
    "    temp_list = []\n",
    "\n",
    "    for i,x in enumerate(main_dict):\n",
    "        temp_list.append(random.choice(main_dict[x]))\n",
    "\n",
    "    # print(temp_list)\n",
    "    \n",
    "    for x in temp_list:\n",
    "        data.append([part_ind['Image ID'][x],part_ind['Penultimate_Output'][x],part_ind['GT_Value'][x]])\n",
    "        \n",
    "    df=pd.DataFrame(data,columns=['Image_ID','Penultimate_Output','GT_Value'])\n",
    "    u_csv_path = '../../CSVs/MIT_unique/unique30_' + ID + '.csv'\n",
    "\n",
    "    df.to_csv(u_csv_path, index = False)"
   ]
  },
  {
   "cell_type": "code",
   "execution_count": null,
   "id": "9141d1df-a0c8-42a7-a978-efed8a4645df",
   "metadata": {},
   "outputs": [],
   "source": []
  }
 ],
 "metadata": {
  "kernelspec": {
   "display_name": "Python 3.8",
   "language": "python",
   "name": "python3"
  },
  "language_info": {
   "codemirror_mode": {
    "name": "ipython",
    "version": 3
   },
   "file_extension": ".py",
   "mimetype": "text/x-python",
   "name": "python",
   "nbconvert_exporter": "python",
   "pygments_lexer": "ipython3",
   "version": "3.8.2"
  }
 },
 "nbformat": 4,
 "nbformat_minor": 5
}
