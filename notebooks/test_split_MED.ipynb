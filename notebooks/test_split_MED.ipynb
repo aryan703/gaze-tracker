{
 "cells": [
  {
   "cell_type": "code",
   "execution_count": 44,
   "id": "ab29c829-2e69-4578-a04d-9e03f36cadea",
   "metadata": {},
   "outputs": [],
   "source": [
    "import os\n",
    "import numpy as np\n",
    "import pandas as pd\n",
    "from sklearn.svm import SVR\n",
    "from sklearn.model_selection import GridSearchCV\n",
    "from sklearn.preprocessing import StandardScaler\n",
    "from sklearn.multioutput import MultiOutputRegressor\n",
    "from sklearn.metrics import make_scorer\n",
    "from sklearn.model_selection import train_test_split"
   ]
  },
  {
   "cell_type": "code",
   "execution_count": 45,
   "id": "c74f26dd-5807-4b2e-a0d8-a62a8444870f",
   "metadata": {},
   "outputs": [],
   "source": [
    "import tensorflow as tf\n",
    "from tensorflow.keras import Input, Model, layers\n",
    "import matplotlib.pyplot as plt\n",
    "from PIL import Image"
   ]
  },
  {
   "cell_type": "code",
   "execution_count": 46,
   "id": "9101650e-f11c-44a5-865f-cb2c7ed72a99",
   "metadata": {},
   "outputs": [],
   "source": [
    "# To find mean of an integer list\n",
    "def Average(lst):\n",
    "    return sum(lst) / len(lst)"
   ]
  },
  {
   "cell_type": "code",
   "execution_count": 47,
   "id": "ea433c62-d884-4aa9-bda2-59d135993f1a",
   "metadata": {},
   "outputs": [],
   "source": [
    "#This is used to remove spaces from a string\n",
    "def remove(string):\n",
    "    return string.replace(\" \", \"\")"
   ]
  },
  {
   "cell_type": "code",
   "execution_count": 48,
   "id": "c2478d39-d63a-44b5-8ef6-6bb54ffb4c1b",
   "metadata": {},
   "outputs": [],
   "source": [
    "# Euclidean distance is defined\n",
    "# def euc(a, b):\n",
    "#     dist = np.sqrt(np.sum(np.square(a - b), axis=1))\n",
    "#     mean = dist.mean()\n",
    "#     return mean\n",
    "\n",
    "def euc(a, b):\n",
    "    return np.sqrt(np.sum(np.square(a - b), axis=1))"
   ]
  },
  {
   "cell_type": "code",
   "execution_count": 159,
   "id": "8a718fd0-2fe1-445d-b988-068e9e234eda",
   "metadata": {},
   "outputs": [
    {
     "name": "stdout",
     "output_type": "stream",
     "text": [
      "Model: \"model_2\"\n",
      "_________________________________________________________________\n",
      " Layer (type)                Output Shape              Param #   \n",
      "=================================================================\n",
      " input_3 (InputLayer)        [(None, 4)]               0         \n",
      "                                                                 \n",
      " re_lu_2 (ReLU)              (None, 4)                 0         \n",
      "                                                                 \n",
      " dense_7 (Dense)             (None, 2)                 10        \n",
      "                                                                 \n",
      "=================================================================\n",
      "Total params: 10\n",
      "Trainable params: 10\n",
      "Non-trainable params: 0\n",
      "_________________________________________________________________\n"
     ]
    }
   ],
   "source": [
    "mit_model = tf.keras.models.load_model('../../checkpoints/new_mod/gs/rlrop100/epoch-99-vl-2.371.ckpt')\n",
    "in_layer = 're_lu_2'\n",
    "out_layer = 'dense_7'\n",
    "pen_model = Model(inputs=mit_model.get_layer(in_layer).input, \n",
    "                  outputs=mit_model.get_layer(out_layer).output)\n",
    "\n",
    "pen_model.summary()"
   ]
  },
  {
   "cell_type": "code",
   "execution_count": 160,
   "id": "607626de-1dd8-4ab3-83b2-5e17e3b1f397",
   "metadata": {},
   "outputs": [],
   "source": [
    "# IDs = ['03183','01877','01326','03140','02091','02301','02240','00382','02833','02078']\n",
    "IDs = ['00503','01866','02459','01816','03004','03253','01231','02152','02015','01046']\n",
    "# ID = '03183'"
   ]
  },
  {
   "cell_type": "code",
   "execution_count": 161,
   "id": "e6fcb901-4e2c-487d-b5e5-7eafa95e34a2",
   "metadata": {},
   "outputs": [],
   "source": [
    "whole_results = []"
   ]
  },
  {
   "cell_type": "code",
   "execution_count": 171,
   "id": "4bba691a-63ea-49fb-a4ff-6acaca480f01",
   "metadata": {},
   "outputs": [],
   "source": [
    "%%capture testmed\n",
    "\n",
    "results = []\n",
    "\n",
    "for ID in IDs:\n",
    "    # csv_path = '../../CSVs/MIT_unique/unique30_' + ID + '.csv'\n",
    "    csv_path = '../../CSVs/google_all/' + ID + '.csv'\n",
    "    # csv_path = '../../CSVs/MIT_all/'+ ID + '.csv'\n",
    "\n",
    "    Model_1=pd.read_csv(csv_path)\n",
    "\n",
    "    train, test = train_test_split(Model_1, test_size=0.334,random_state=42, shuffle=False)\n",
    "\n",
    "    a_test=test['Penultimate_Output']\n",
    "    b_test=test['GT_Value']\n",
    "\n",
    "\n",
    "    for i in range(0,len(a_test)):\n",
    "        lis=[]\n",
    "        a_test.iloc[i]=remove(a_test.iloc[i])\n",
    "        x=a_test.iloc[i]\n",
    "        a=x.split(',')\n",
    "        x=a[0]\n",
    "        x=x[9:]\n",
    "        x1=a[1]\n",
    "\n",
    "        x2=a[2]\n",
    "\n",
    "        x3=a[3]\n",
    "        x3=x3[0:-2]\n",
    "\n",
    "        lis.append(float(x))\n",
    "        lis.append(float(x1))\n",
    "        lis.append(float(x2))\n",
    "        lis.append(float(x3))\n",
    "        a_test.iloc[i]=lis\n",
    "\n",
    "    for i in range(0,len(b_test)):\n",
    "        lis=[]\n",
    "        x=b_test.iloc[i]\n",
    "        a=x.split(',')\n",
    "        x1=a[0]\n",
    "        x1=x1[9:]\n",
    "        x2=a[1]\n",
    "        x2=x2[0:-2]\n",
    "        lis.append(float(x1))\n",
    "        lis.append(float(x2))\n",
    "        b_test.iloc[i]=lis\n",
    "\n",
    "    for i in range(0,len(a_test)):\n",
    "        a_test.iloc[i]=np.array(a_test.iloc[i])\n",
    "    for i in range(0,len(b_test)):\n",
    "        b_test.iloc[i]=np.array(b_test.iloc[i])\n",
    "\n",
    "    a_test = a_test.apply(pd.Series)\n",
    "    b_test = b_test.apply(pd.Series)\n",
    "    x_test = a_test.to_numpy()\n",
    "    y_test = b_test.to_numpy()\n",
    "    \n",
    "    test_dataset = tf.data.Dataset.from_tensor_slices((x_test, y_test))\n",
    "    test_dataset = test_dataset.batch(1)\n",
    "    \n",
    "    preds, gt = [], []\n",
    "\n",
    "    for x_test,y_test in test_dataset:\n",
    "        pred = pen_model.predict(x_test)\n",
    "        preds.extend(pred)\n",
    "        gt.extend(y_test)\n",
    "        \n",
    "    preds = np.array(preds)\n",
    "    pts = np.unique(gt, axis=0)\n",
    "    gt = np.array(gt)\n",
    "    dist = euc(preds, gt)\n",
    "    MED = round(dist.mean(), 3)\n",
    "    # print(\"Mean Euclidean Distance: \", MED) \n",
    "    \n",
    "    results.append(MED)"
   ]
  },
  {
   "cell_type": "code",
   "execution_count": 172,
   "id": "fb1ddd7c-247b-4275-9b1f-d86a709f323a",
   "metadata": {},
   "outputs": [],
   "source": [
    "whole_results.append(results)"
   ]
  },
  {
   "cell_type": "code",
   "execution_count": 173,
   "id": "d32825b6-1cf1-44c6-93f1-37f906e491ea",
   "metadata": {},
   "outputs": [
    {
     "data": {
      "text/plain": [
       "[[1.528, 1.196, 1.313, 1.096, 1.358, 1.243, 1.331, 1.573, 1.284, 1.227],\n",
       " [1.207, 1.478, 1.658, 0.987, 1.063, 1.305, 1.401, 1.386, 1.295, 1.289],\n",
       " [1.539, 1.213, 1.293, 1.093, 1.368, 1.257, 1.323, 1.587, 1.275, 1.233],\n",
       " [1.232, 1.467, 1.657, 1.002, 1.09, 1.253, 1.494, 1.39, 1.258, 1.344]]"
      ]
     },
     "execution_count": 173,
     "metadata": {},
     "output_type": "execute_result"
    }
   ],
   "source": [
    "whole_results"
   ]
  },
  {
   "cell_type": "code",
   "execution_count": null,
   "id": "7b4ce730-693f-4411-b20b-7119aa605482",
   "metadata": {},
   "outputs": [],
   "source": []
  },
  {
   "cell_type": "code",
   "execution_count": 174,
   "id": "0f6f6332-4cb2-434d-9f6a-286df4bd1c1f",
   "metadata": {},
   "outputs": [
    {
     "data": {
      "text/plain": [
       "array([[1.528, 1.207, 1.539, 1.232],\n",
       "       [1.196, 1.478, 1.213, 1.467],\n",
       "       [1.313, 1.658, 1.293, 1.657],\n",
       "       [1.096, 0.987, 1.093, 1.002],\n",
       "       [1.358, 1.063, 1.368, 1.09 ],\n",
       "       [1.243, 1.305, 1.257, 1.253],\n",
       "       [1.331, 1.401, 1.323, 1.494],\n",
       "       [1.573, 1.386, 1.587, 1.39 ],\n",
       "       [1.284, 1.295, 1.275, 1.258],\n",
       "       [1.227, 1.289, 1.233, 1.344]])"
      ]
     },
     "execution_count": 174,
     "metadata": {},
     "output_type": "execute_result"
    }
   ],
   "source": [
    "whole_results = np.array(whole_results)\n",
    "whole_results_np = whole_results.transpose()\n",
    "whole_results_np"
   ]
  },
  {
   "cell_type": "code",
   "execution_count": 175,
   "id": "fd9abb36-255b-45fa-830c-dd9b5a1e69bc",
   "metadata": {},
   "outputs": [],
   "source": [
    "df = pd.DataFrame(whole_results_np, columns=['73T', '73F', '23T','23F'])"
   ]
  },
  {
   "cell_type": "code",
   "execution_count": 176,
   "id": "71744fed-6f32-4acc-b136-05943b861a89",
   "metadata": {},
   "outputs": [],
   "source": [
    "df.loc[len(df.index)] = [round(Average(whole_results[0]),2) , round(Average(whole_results[1]),2) , round(Average(whole_results[2]),2), round(Average(whole_results[3]),)] "
   ]
  },
  {
   "cell_type": "code",
   "execution_count": 177,
   "id": "94e112ba-8e84-4fcb-8f2c-2e144302e13b",
   "metadata": {},
   "outputs": [
    {
     "data": {
      "text/plain": [
       "[1.38, 1.34, 1.48, 1.04, 1.22, 1.26, 1.39, 1.48, 1.28, 1.27, 1.24]"
      ]
     },
     "execution_count": 177,
     "metadata": {},
     "output_type": "execute_result"
    }
   ],
   "source": [
    "mean_4versions = list(df.mean(axis=1))\n",
    "for i in range(len(mean_4versions)):\n",
    "    mean_4versions[i] = round(mean_4versions[i], 2)\n",
    "\n",
    "mean_4versions"
   ]
  },
  {
   "cell_type": "code",
   "execution_count": 178,
   "id": "ea1f8e1f-7192-4f79-827a-7d4d9166be90",
   "metadata": {},
   "outputs": [
    {
     "data": {
      "text/html": [
       "<div>\n",
       "<style scoped>\n",
       "    .dataframe tbody tr th:only-of-type {\n",
       "        vertical-align: middle;\n",
       "    }\n",
       "\n",
       "    .dataframe tbody tr th {\n",
       "        vertical-align: top;\n",
       "    }\n",
       "\n",
       "    .dataframe thead th {\n",
       "        text-align: right;\n",
       "    }\n",
       "</style>\n",
       "<table border=\"1\" class=\"dataframe\">\n",
       "  <thead>\n",
       "    <tr style=\"text-align: right;\">\n",
       "      <th></th>\n",
       "      <th>73T</th>\n",
       "      <th>73F</th>\n",
       "      <th>23T</th>\n",
       "      <th>23F</th>\n",
       "      <th>Mean of all 4</th>\n",
       "    </tr>\n",
       "  </thead>\n",
       "  <tbody>\n",
       "    <tr>\n",
       "      <th>0</th>\n",
       "      <td>1.528</td>\n",
       "      <td>1.207</td>\n",
       "      <td>1.539</td>\n",
       "      <td>1.232</td>\n",
       "      <td>1.38</td>\n",
       "    </tr>\n",
       "    <tr>\n",
       "      <th>1</th>\n",
       "      <td>1.196</td>\n",
       "      <td>1.478</td>\n",
       "      <td>1.213</td>\n",
       "      <td>1.467</td>\n",
       "      <td>1.34</td>\n",
       "    </tr>\n",
       "    <tr>\n",
       "      <th>2</th>\n",
       "      <td>1.313</td>\n",
       "      <td>1.658</td>\n",
       "      <td>1.293</td>\n",
       "      <td>1.657</td>\n",
       "      <td>1.48</td>\n",
       "    </tr>\n",
       "    <tr>\n",
       "      <th>3</th>\n",
       "      <td>1.096</td>\n",
       "      <td>0.987</td>\n",
       "      <td>1.093</td>\n",
       "      <td>1.002</td>\n",
       "      <td>1.04</td>\n",
       "    </tr>\n",
       "    <tr>\n",
       "      <th>4</th>\n",
       "      <td>1.358</td>\n",
       "      <td>1.063</td>\n",
       "      <td>1.368</td>\n",
       "      <td>1.090</td>\n",
       "      <td>1.22</td>\n",
       "    </tr>\n",
       "    <tr>\n",
       "      <th>5</th>\n",
       "      <td>1.243</td>\n",
       "      <td>1.305</td>\n",
       "      <td>1.257</td>\n",
       "      <td>1.253</td>\n",
       "      <td>1.26</td>\n",
       "    </tr>\n",
       "    <tr>\n",
       "      <th>6</th>\n",
       "      <td>1.331</td>\n",
       "      <td>1.401</td>\n",
       "      <td>1.323</td>\n",
       "      <td>1.494</td>\n",
       "      <td>1.39</td>\n",
       "    </tr>\n",
       "    <tr>\n",
       "      <th>7</th>\n",
       "      <td>1.573</td>\n",
       "      <td>1.386</td>\n",
       "      <td>1.587</td>\n",
       "      <td>1.390</td>\n",
       "      <td>1.48</td>\n",
       "    </tr>\n",
       "    <tr>\n",
       "      <th>8</th>\n",
       "      <td>1.284</td>\n",
       "      <td>1.295</td>\n",
       "      <td>1.275</td>\n",
       "      <td>1.258</td>\n",
       "      <td>1.28</td>\n",
       "    </tr>\n",
       "    <tr>\n",
       "      <th>9</th>\n",
       "      <td>1.227</td>\n",
       "      <td>1.289</td>\n",
       "      <td>1.233</td>\n",
       "      <td>1.344</td>\n",
       "      <td>1.27</td>\n",
       "    </tr>\n",
       "    <tr>\n",
       "      <th>10</th>\n",
       "      <td>1.310</td>\n",
       "      <td>1.310</td>\n",
       "      <td>1.320</td>\n",
       "      <td>1.000</td>\n",
       "      <td>1.24</td>\n",
       "    </tr>\n",
       "  </tbody>\n",
       "</table>\n",
       "</div>"
      ],
      "text/plain": [
       "      73T    73F    23T    23F  Mean of all 4\n",
       "0   1.528  1.207  1.539  1.232           1.38\n",
       "1   1.196  1.478  1.213  1.467           1.34\n",
       "2   1.313  1.658  1.293  1.657           1.48\n",
       "3   1.096  0.987  1.093  1.002           1.04\n",
       "4   1.358  1.063  1.368  1.090           1.22\n",
       "5   1.243  1.305  1.257  1.253           1.26\n",
       "6   1.331  1.401  1.323  1.494           1.39\n",
       "7   1.573  1.386  1.587  1.390           1.48\n",
       "8   1.284  1.295  1.275  1.258           1.28\n",
       "9   1.227  1.289  1.233  1.344           1.27\n",
       "10  1.310  1.310  1.320  1.000           1.24"
      ]
     },
     "execution_count": 178,
     "metadata": {},
     "output_type": "execute_result"
    }
   ],
   "source": [
    "df.insert(4, 'Mean of all 4', mean_4versions)\n",
    "df"
   ]
  },
  {
   "cell_type": "code",
   "execution_count": 179,
   "id": "b9d75e93-b441-4f37-9c58-c0780b4798e1",
   "metadata": {},
   "outputs": [],
   "source": [
    "df.to_csv('goolgle-all-MED.csv', index = False)"
   ]
  }
 ],
 "metadata": {
  "kernelspec": {
   "display_name": "Python 3.8",
   "language": "python",
   "name": "python3"
  },
  "language_info": {
   "codemirror_mode": {
    "name": "ipython",
    "version": 3
   },
   "file_extension": ".py",
   "mimetype": "text/x-python",
   "name": "python",
   "nbconvert_exporter": "python",
   "pygments_lexer": "ipython3",
   "version": "3.8.2"
  }
 },
 "nbformat": 4,
 "nbformat_minor": 5
}
