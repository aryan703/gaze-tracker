{
 "cells": [
  {
   "cell_type": "code",
   "execution_count": 1,
   "id": "596e6354-0adb-450b-84e7-5cd4b1921bef",
   "metadata": {},
   "outputs": [],
   "source": [
    "import tensorflow as tf\n",
    "from tensorflow.keras import Input, Model, layers\n",
    "import numpy as np \n",
    "import matplotlib.pyplot as plt\n",
    "import json\n",
    "import os \n",
    "from PIL import Image"
   ]
  },
  {
   "cell_type": "code",
   "execution_count": 2,
   "id": "48019a83-7dd8-4091-afbf-24bfbea56ce0",
   "metadata": {},
   "outputs": [],
   "source": [
    "AUTO = tf.data.experimental.AUTOTUNE # used in tf.data.Dataset API\n",
    "\n",
    "TRAINING_FILENAMES = '../datasets/mit_split_tfrec/train.tfrec' \n",
    "VALID_FILENAMES = '../datasets/mit_split_tfrec/val.tfrec'\n",
    "TEST_FILENAMES = '../datasets/mit_split_tfrec/test.tfrec' \n",
    "BATCH_SIZE = 256\n",
    "\n",
    "SEED = tf.Variable(256)"
   ]
  },
  {
   "cell_type": "code",
   "execution_count": 3,
   "id": "0cff6804-40d5-4dfb-a491-497242435c64",
   "metadata": {},
   "outputs": [],
   "source": [
    "def parse_tfrecord_fn(example):\n",
    "    feature_description = {\n",
    "        \"image\": tf.io.FixedLenFeature([], tf.string),\n",
    "        \"path\": tf.io.FixedLenFeature([], tf.string),\n",
    "        \"device\": tf.io.FixedLenFeature([], tf.string),\n",
    "        \"screen_h\": tf.io.FixedLenFeature([], tf.int64),\n",
    "        \"screen_w\": tf.io.FixedLenFeature([], tf.int64),\n",
    "        \"face_valid\": tf.io.FixedLenFeature([], tf.int64),\n",
    "        \"face_x\": tf.io.FixedLenFeature([], tf.int64),\n",
    "        \"face_y\": tf.io.FixedLenFeature([], tf.int64),\n",
    "        \"face_w\": tf.io.FixedLenFeature([], tf.int64),\n",
    "        \"face_h\": tf.io.FixedLenFeature([], tf.int64),\n",
    "        \"leye_x\": tf.io.FixedLenFeature([], tf.int64),\n",
    "        \"leye_y\": tf.io.FixedLenFeature([], tf.int64),\n",
    "        \"leye_w\": tf.io.FixedLenFeature([], tf.int64),\n",
    "        \"leye_h\": tf.io.FixedLenFeature([], tf.int64),\n",
    "        \"reye_x\": tf.io.FixedLenFeature([], tf.int64),\n",
    "        \"reye_y\": tf.io.FixedLenFeature([], tf.int64),\n",
    "        \"reye_w\": tf.io.FixedLenFeature([], tf.int64),\n",
    "        \"reye_h\": tf.io.FixedLenFeature([], tf.int64),\n",
    "        \"dot_xcam\": tf.io.FixedLenFeature([], tf.float32),\n",
    "        \"dot_y_cam\": tf.io.FixedLenFeature([], tf.float32),\n",
    "        \"dot_x_pix\": tf.io.FixedLenFeature([], tf.float32),\n",
    "        \"dot_y_pix\": tf.io.FixedLenFeature([], tf.float32),\n",
    "        \"reye_x1\": tf.io.FixedLenFeature([], tf.int64),\n",
    "        \"reye_y1\": tf.io.FixedLenFeature([], tf.int64),\n",
    "        \"reye_x2\": tf.io.FixedLenFeature([], tf.int64),\n",
    "        \"reye_y2\": tf.io.FixedLenFeature([], tf.int64),\n",
    "        \"leye_x1\": tf.io.FixedLenFeature([], tf.int64),\n",
    "        \"leye_y1\": tf.io.FixedLenFeature([], tf.int64),\n",
    "        \"leye_x2\": tf.io.FixedLenFeature([], tf.int64),\n",
    "        \"leye_y2\": tf.io.FixedLenFeature([], tf.int64),\n",
    "    }\n",
    "    example = tf.io.parse_single_example(example, feature_description)\n",
    "    example[\"image\"] = tf.io.decode_jpeg(example[\"image\"], channels=3)\n",
    "    return example"
   ]
  },
  {
   "cell_type": "markdown",
   "id": "84317348-fd97-47d0-b52d-d57c5ad02242",
   "metadata": {
    "tags": []
   },
   "source": [
    "## Defining Transforms"
   ]
  },
  {
   "cell_type": "code",
   "execution_count": 4,
   "id": "d59bde2d-9fad-4903-b678-366e8177c76d",
   "metadata": {},
   "outputs": [],
   "source": [
    "def augmentation(image, training = True):\n",
    "    if training:\n",
    "        aug = tf.keras.Sequential([\n",
    "                layers.Resizing(128+10, 128+10),\n",
    "                layers.RandomCrop(128, 128, 256),\n",
    "                layers.Rescaling(1./255),\n",
    "                layers.Normalization(mean = (0.3741, 0.4076, 0.5425), variance = (0.0004, 0.0004, 0.0004))\n",
    "                ])\n",
    "        \n",
    "    else:\n",
    "        aug = tf.keras.Sequential([\n",
    "                layers.Resizing(128, 128),\n",
    "                layers.Rescaling(1./255),\n",
    "                layers.Normalization(mean = (0.3741, 0.4076, 0.5425), variance = (0.0004, 0.0004, 0.0004))\n",
    "                ])\n",
    "    \n",
    "    image = aug(image)\n",
    "    \n",
    "    return image"
   ]
  },
  {
   "cell_type": "markdown",
   "id": "493f5490-b8bd-417e-bf60-bdaa6c723236",
   "metadata": {},
   "source": [
    "## Preprocessing on TFrec extracted data"
   ]
  },
  {
   "cell_type": "code",
   "execution_count": 5,
   "id": "a51fdf6b-6417-4d1c-a578-5545d4febc7d",
   "metadata": {},
   "outputs": [],
   "source": [
    "def prepare_sample(features):\n",
    "    img_feat = features['image']\n",
    "\n",
    "    h = tf.shape(img_feat)[0]\n",
    "    w = tf.shape(img_feat)[1]\n",
    "\n",
    "    w = tf.cast(w, tf.int64)\n",
    "    h = tf.cast(h, tf.int64)\n",
    "\n",
    "    screen_w, screen_h = features['screen_w'], features['screen_h']\n",
    "\n",
    "    kps = [features['leye_x1']/w, features['leye_y1']/h, features['leye_x2']/w, features['leye_y2']/h,\n",
    "           features['reye_x1']/w, features['reye_y1']/h, features['reye_x2']/w, features['reye_y2']/h]\n",
    "    # kps has type float64\n",
    "\n",
    "    lx, ly, lw, lh = int(features['leye_x']), int(features['leye_y']), int(features['leye_w']), int(features['leye_h'])\n",
    "    rx, ry, rw, rh = int(features['reye_x']), int(features['reye_y']), int(features['reye_w']), int(features['reye_h'])\n",
    "\n",
    "    lx = tf.clip_by_value(lx, 0, int(w)-lw)\n",
    "    ly = tf.clip_by_value(ly, 0, int(h)-lh)\n",
    "\n",
    "    rx = tf.clip_by_value(rx, 0, int(w)-rw)\n",
    "    ry = tf.clip_by_value(ry, 0, int(h)-rh)\n",
    "\n",
    "    l_eye = tf.image.crop_to_bounding_box(img_feat, ly, lx, lh, lw)\n",
    "    r_eye = tf.image.crop_to_bounding_box(img_feat, ry, rx, rh, rw)\n",
    "\n",
    "    l_eye = tf.image.flip_left_right(l_eye)\n",
    "\n",
    "    l_eye = augmentation(l_eye)\n",
    "    r_eye = augmentation(r_eye)\n",
    "\n",
    "    y = [features['dot_xcam'], features['dot_y_cam']]\n",
    "    # y has type float32\n",
    "\n",
    "    return (l_eye, r_eye, kps), y"
   ]
  },
  {
   "cell_type": "markdown",
   "id": "6b826a23-4abc-4ed2-a963-1f89bdcc6942",
   "metadata": {},
   "source": [
    "## Extracting the TFRecs and preprocessing+transforms+batching"
   ]
  },
  {
   "cell_type": "code",
   "execution_count": 6,
   "id": "f0f9bf4c-c999-4e64-b692-7a8a491aaea6",
   "metadata": {},
   "outputs": [],
   "source": [
    "def get_batched_dataset(filenames, batch_size):\n",
    "    option_no_order = tf.data.Options()\n",
    "    option_no_order.deterministic = False  # disable order, increase speed\n",
    "    \n",
    "    dataset = (\n",
    "        tf.data.TFRecordDataset(filenames, num_parallel_reads=AUTO)\n",
    "        .with_options(option_no_order)\n",
    "        .map(parse_tfrecord_fn, num_parallel_calls=AUTO)\n",
    "        .map(prepare_sample, num_parallel_calls=AUTO)\n",
    "        .shuffle(batch_size*10)\n",
    "        .batch(batch_size)\n",
    "        .prefetch(buffer_size=AUTO)\n",
    "    )\n",
    "    \n",
    "    dataset_len = sum(1 for _ in tf.data.TFRecordDataset(filenames))\n",
    "    print(f\"No. of samples: {dataset_len}\")\n",
    "    \n",
    "    return dataset"
   ]
  },
  {
   "cell_type": "code",
   "execution_count": 7,
   "id": "4eeab9e3-b75c-45a1-9e3a-9bfae85a2d80",
   "metadata": {},
   "outputs": [
    {
     "name": "stdout",
     "output_type": "stream",
     "text": [
      "No. of samples: 427092\n"
     ]
    }
   ],
   "source": [
    "dataset_len = sum(1 for _ in tf.data.TFRecordDataset(TRAINING_FILENAMES))\n",
    "print(f\"No. of samples: {dataset_len}\")"
   ]
  },
  {
   "cell_type": "code",
   "execution_count": 8,
   "id": "14027014-0816-49f2-847c-68e6ce41b555",
   "metadata": {},
   "outputs": [
    {
     "name": "stdout",
     "output_type": "stream",
     "text": [
      "No. of samples: 19102\n"
     ]
    }
   ],
   "source": [
    "dataset_len = sum(1 for _ in tf.data.TFRecordDataset(VALID_FILENAMES))\n",
    "print(f\"No. of samples: {dataset_len}\")"
   ]
  },
  {
   "cell_type": "code",
   "execution_count": 9,
   "id": "5243efd4-30b6-4eb7-bf2f-77f647db1469",
   "metadata": {},
   "outputs": [
    {
     "name": "stdout",
     "output_type": "stream",
     "text": [
      "No. of samples: 55541\n"
     ]
    }
   ],
   "source": [
    "dataset_len = sum(1 for _ in tf.data.TFRecordDataset(TEST_FILENAMES))\n",
    "print(f\"No. of samples: {dataset_len}\")"
   ]
  },
  {
   "cell_type": "code",
   "execution_count": 10,
   "id": "a85b6f45-9a28-4630-9acf-790fd3667baf",
   "metadata": {},
   "outputs": [
    {
     "name": "stdout",
     "output_type": "stream",
     "text": [
      "No. of samples: 427092\n",
      "No. of samples: 19102\n",
      "No. of samples: 55541\n"
     ]
    }
   ],
   "source": [
    "train_dataset = get_batched_dataset(TRAINING_FILENAMES, BATCH_SIZE)\n",
    "valid_dataset = get_batched_dataset(VALID_FILENAMES, BATCH_SIZE)\n",
    "test_dataset = get_batched_dataset(TEST_FILENAMES, BATCH_SIZE)"
   ]
  },
  {
   "cell_type": "markdown",
   "id": "aa05011c-3ae3-4ea9-a0b4-381b4db994ea",
   "metadata": {},
   "source": [
    "## Model"
   ]
  },
  {
   "cell_type": "code",
   "execution_count": 11,
   "id": "d35aa01d-93a0-4788-a838-87f1040a30a0",
   "metadata": {},
   "outputs": [],
   "source": [
    "class eye_model(layers.Layer):\n",
    "    def __init__(self, name='Eye-model'):\n",
    "        super(eye_model, self).__init__()\n",
    "\n",
    "        self.conv1 = layers.Conv2D(32, kernel_size=7, strides=2, padding='valid') \n",
    "        self.conv2 = layers.Conv2D(64, kernel_size=5, strides=2, padding='valid')\n",
    "        self.conv3 = layers.Conv2D(128, kernel_size=3, strides=1, padding='valid')\n",
    "        self.bn1 = layers.BatchNormalization(axis = -1, momentum=0.9)\n",
    "        self.bn2 = layers.BatchNormalization(axis = -1, momentum=0.9)\n",
    "        self.bn3 = layers.BatchNormalization(axis = -1, momentum=0.9)\n",
    "        self.leakyrelu = layers.LeakyReLU(alpha=0.01)\n",
    "        self.avgpool = layers.AveragePooling2D(pool_size=2)\n",
    "        self.dropout = layers.Dropout(rate=0.02)\n",
    "\n",
    "    def call(self, input_image):\n",
    "        x = self.conv1(input_image)\n",
    "        x = self.bn1(x)\n",
    "        x = self.leakyrelu(x)\n",
    "        x = self.avgpool(x)\n",
    "        x = self.dropout(x) \n",
    "\n",
    "        x = self.conv2(x)\n",
    "        x = self.bn2(x)\n",
    "        x = self.leakyrelu(x)\n",
    "        x = self.avgpool(x)\n",
    "        x = self.dropout(x)\n",
    "\n",
    "        x = self.conv3(x)\n",
    "        x = self.bn3(x)\n",
    "        x = self.leakyrelu(x)\n",
    "        x = self.avgpool(x)\n",
    "        x = self.dropout(x)\n",
    "\n",
    "        return x\n",
    "    \n",
    "\n",
    "\n",
    "\n",
    "class landmark_model(layers.Layer):\n",
    "    def __init__(self, name='Landmark-model'):\n",
    "        super(landmark_model, self).__init__()\n",
    "\n",
    "        self.dense1 = layers.Dense(128)\n",
    "        self.dense2 = layers.Dense(16)\n",
    "        self.dense3 = layers.Dense(16)\n",
    "        self.bn1 = layers.BatchNormalization(axis = -1,momentum=0.9)\n",
    "        self.bn2 = layers.BatchNormalization(axis = -1, momentum=0.9)\n",
    "        self.bn3 = layers.BatchNormalization(axis = -1, momentum=0.9)\n",
    "        self.relu = layers.ReLU()\n",
    "\n",
    "    def call(self, input_kps):\n",
    "        x = self.dense1(input_kps)\n",
    "        x = self.bn1(x)\n",
    "        x = self.relu(x)\n",
    "\n",
    "        x = self.dense2(x)\n",
    "        x = self.bn2(x)\n",
    "        x = self.relu(x)\n",
    "\n",
    "        x = self.dense3(x)\n",
    "        x = self.bn3(x)\n",
    "        x = self.relu(x)   \n",
    "\n",
    "        return x\n",
    "    \n",
    "\n",
    "class gazetrack_model(layers.Layer):\n",
    "    def __init__(self, name='Gazetrack-model'):\n",
    "        super(gazetrack_model, self).__init__()\n",
    "\n",
    "        self.eye_model = eye_model()\n",
    "        self.landmark_model = landmark_model()\n",
    "\n",
    "        self.dense1 = layers.Dense(8)\n",
    "        self.dense2 = layers.Dense(4)\n",
    "        self.dense3 = layers.Dense(2)\n",
    "\n",
    "        self.bn1 = layers.BatchNormalization(axis = -1, momentum=0.9)\n",
    "        self.bn2 = layers.BatchNormalization(axis = -1, momentum=0.9)\n",
    "        self.dropout = layers.Dropout(rate=0.12)\n",
    "        self.relu = layers.ReLU()\n",
    "\n",
    "\n",
    "    def call(self, l_r_lms):\n",
    "        \n",
    "        leftEye, rightEye, lms = l_r_lms\n",
    "        \n",
    "        l_eye_feat = self.eye_model(leftEye)\n",
    "        r_eye_feat = self.eye_model(rightEye)\n",
    "        \n",
    "        l_eye_feat = layers.Flatten()(l_eye_feat)\n",
    "        r_eye_feat = layers.Flatten()(r_eye_feat)\n",
    "\n",
    "    \n",
    "        lm_feat = self.landmark_model(lms)\n",
    "        \n",
    "        combined_feat = tf.concat((l_eye_feat, r_eye_feat, lm_feat),1)\n",
    "\n",
    "        x = self.dense1(combined_feat)\n",
    "        x = self.bn1(x)\n",
    "        x = self.dropout(x)\n",
    "        x = self.relu(x)\n",
    "\n",
    "        return x\n",
    "    \n",
    "model_ = gazetrack_model()\n",
    "\n",
    "input1 = Input(shape=(128,128,3))\n",
    "input2 = Input(shape=(128,128,3))\n",
    "input3 = Input(shape=(8, ))\n",
    "combine_input = [input1, input2, input3]\n",
    "gz_output = model_(combine_input)\n",
    "\n",
    "dense2 = layers.Dense(4)(gz_output)\n",
    "bn2 = layers.BatchNormalization(axis = -1, momentum=0.9)(dense2)\n",
    "relu = layers.ReLU()(bn2)\n",
    "dense3 = layers.Dense(2)(relu)\n",
    "\n",
    "final_model = Model(inputs=combine_input, outputs=dense3)"
   ]
  },
  {
   "cell_type": "code",
   "execution_count": 12,
   "id": "40d08565-7323-4910-99af-2ebb3805a147",
   "metadata": {},
   "outputs": [
    {
     "name": "stdout",
     "output_type": "stream",
     "text": [
      "Model: \"model\"\n",
      "__________________________________________________________________________________________________\n",
      " Layer (type)                   Output Shape         Param #     Connected to                     \n",
      "==================================================================================================\n",
      " input_1 (InputLayer)           [(None, 128, 128, 3  0           []                               \n",
      "                                )]                                                                \n",
      "                                                                                                  \n",
      " input_2 (InputLayer)           [(None, 128, 128, 3  0           []                               \n",
      "                                )]                                                                \n",
      "                                                                                                  \n",
      " input_3 (InputLayer)           [(None, 8)]          0           []                               \n",
      "                                                                                                  \n",
      " gazetrack_model (gazetrack_mod  (None, 8)           143240      ['input_1[0][0]',                \n",
      " el)                                                              'input_2[0][0]',                \n",
      "                                                                  'input_3[0][0]']                \n",
      "                                                                                                  \n",
      " dense_6 (Dense)                (None, 4)            36          ['gazetrack_model[0][0]']        \n",
      "                                                                                                  \n",
      " batch_normalization_8 (BatchNo  (None, 4)           16          ['dense_6[0][0]']                \n",
      " rmalization)                                                                                     \n",
      "                                                                                                  \n",
      " re_lu_2 (ReLU)                 (None, 4)            0           ['batch_normalization_8[0][0]']  \n",
      "                                                                                                  \n",
      " dense_7 (Dense)                (None, 2)            10          ['re_lu_2[0][0]']                \n",
      "                                                                                                  \n",
      "==================================================================================================\n",
      "Total params: 143,302\n",
      "Trainable params: 142,510\n",
      "Non-trainable params: 792\n",
      "__________________________________________________________________________________________________\n"
     ]
    }
   ],
   "source": [
    "final_model.summary()"
   ]
  },
  {
   "cell_type": "markdown",
   "id": "26182de6-2f87-414c-9816-1b2b7c252607",
   "metadata": {},
   "source": [
    "## Training Parameters"
   ]
  },
  {
   "cell_type": "code",
   "execution_count": 13,
   "id": "52cd3d8d-942d-4a1f-8cd7-52151d5fd19a",
   "metadata": {},
   "outputs": [],
   "source": [
    "lr = 0.016\n",
    "loss = tf.keras.losses.MeanSquaredError()\n",
    "metrics = [tf.keras.metrics.mean_squared_error]\n",
    "optimizer = tf.keras.optimizers.Adam(learning_rate=lr,beta_1=0.9, beta_2=0.999, epsilon=1e-07)\n",
    "scheduler = tf.keras.callbacks.ReduceLROnPlateau(monitor='val_loss', verbose=1, mode='min')\n",
    "batch_size = 256"
   ]
  },
  {
   "cell_type": "code",
   "execution_count": 13,
   "id": "05ea77fd-479e-4462-8370-655a560e7496",
   "metadata": {},
   "outputs": [],
   "source": [
    "model = gazetrack_model()"
   ]
  },
  {
   "cell_type": "code",
   "execution_count": 14,
   "id": "2d9a2f2e-c3c1-47ba-abfc-bd63520a98b4",
   "metadata": {},
   "outputs": [],
   "source": [
    "final_model.compile(optimizer=optimizer, loss=loss, metrics=metrics,)"
   ]
  },
  {
   "cell_type": "markdown",
   "id": "11fd3d9b-56b0-4707-b122-643cbeaaa342",
   "metadata": {},
   "source": [
    "## Training"
   ]
  },
  {
   "cell_type": "code",
   "execution_count": null,
   "id": "7da4910a-31db-4932-b6ff-430251e87d3b",
   "metadata": {},
   "outputs": [],
   "source": [
    "final_model.fit(\n",
    "    x=valid_dataset,   \n",
    "    batch_size=batch_size,\n",
    "    epochs=1,  \n",
    "    verbose='auto',   #auto=1, 1=progress bar, 2=one line per epoch( maybe use 2 if running job)\n",
    "    callbacks=[scheduler],\n",
    "    validation_data=valid_dataset,\n",
    "    shuffle=True,    #probably will not work as our dataset is a tf.data object\n",
    "    initial_epoch=0,     #epoch at which to resume training\n",
    "    workers=1,\n",
    "    use_multiprocessing=False\n",
    ")"
   ]
  },
  {
   "cell_type": "code",
   "execution_count": null,
   "id": "10409aaf-92bc-4d04-89ae-05b01a1e98c4",
   "metadata": {},
   "outputs": [],
   "source": [
    "model.evaluate(\n",
    "    x=valid_dataset,\n",
    "    batch_size=batch_size,\n",
    "    verbose='auto'\n",
    ")\n"
   ]
  },
  {
   "cell_type": "code",
   "execution_count": null,
   "id": "cbfa5fcd-ba5f-422c-b0d5-b651e87a9c90",
   "metadata": {},
   "outputs": [],
   "source": []
  }
 ],
 "metadata": {
  "kernelspec": {
   "display_name": "Python 3.8",
   "language": "python",
   "name": "python3"
  },
  "language_info": {
   "codemirror_mode": {
    "name": "ipython",
    "version": 3
   },
   "file_extension": ".py",
   "mimetype": "text/x-python",
   "name": "python",
   "nbconvert_exporter": "python",
   "pygments_lexer": "ipython3",
   "version": "3.8.2"
  }
 },
 "nbformat": 4,
 "nbformat_minor": 5
}
